{
 "cells": [
  {
   "cell_type": "code",
   "execution_count": null,
   "metadata": {},
   "outputs": [],
   "source": [
    "import torch\n",
    "from torch import nn, utils, optim\n",
    "from torchvision import datasets, transforms\n",
    "import matplotlib.pyplot as plt\n",
    "from copy import deepcopy\n",
    "from tqdm.auto import tqdm\n",
    "import os\n",
    "\n",
    "test_root = \"./Dataset\" # set this to the testing folder directory"
   ]
  },
  {
   "cell_type": "code",
   "execution_count": null,
   "metadata": {
    "tags": []
   },
   "outputs": [],
   "source": [
    "device = 'cuda' if torch.cuda.is_available() else 'cpu'\n",
    "print(f'GPU is available: {torch.cuda.is_available()}')\n",
    "print(f'Setting default device to: {device}')"
   ]
  },
  {
   "cell_type": "code",
   "execution_count": null,
   "metadata": {
    "tags": []
   },
   "outputs": [],
   "source": [
    "print(f'Reading testing data from: {test_root} ....')\n",
    "\n",
    "test_transform = transforms.Compose([transforms.Resize(64),\n",
    "                                     transforms.CenterCrop(64),\n",
    "                                     transforms.Grayscale(num_output_channels = 1),\n",
    "                                     transforms.ToTensor(),\n",
    "                                     lambda image: (2 * image) - 1])\n",
    "\n",
    "test_images = datasets.ImageFolder(root = test_root, transform = test_transform)\n",
    "\n",
    "batch_size = 1\n",
    "test_data = utils.data.DataLoader(test_images , batch_size = batch_size, shuffle = False)"
   ]
  },
  {
   "cell_type": "code",
   "execution_count": null,
   "metadata": {
    "tags": []
   },
   "outputs": [],
   "source": [
    "print(f'Loading the pretrained model ....')\n",
    "\n",
    "def ConvBlock(input_channels, output_channels):\n",
    "    return nn.Sequential(\n",
    "        nn.BatchNorm2d(input_channels),\n",
    "        nn.LeakyReLU(0.2),\n",
    "        nn.Conv2d(input_channels, output_channels, kernel_size = 3, padding = 1)\n",
    "    )\n",
    "\n",
    "def TransitionBlock(input_channels, output_channels):\n",
    "    return nn.Sequential(\n",
    "        nn.BatchNorm2d(input_channels),\n",
    "        nn.LeakyReLU(0.2),\n",
    "        nn.Conv2d(input_channels, output_channels, kernel_size = 1),\n",
    "        nn.AvgPool2d(kernel_size = 2, stride = 2)\n",
    "    )\n",
    "\n",
    "class DenseBlock(nn.Module):\n",
    "    def __init__(self, num_convs, input_channels, output_channels):\n",
    "        super(DenseBlock, self).__init__()\n",
    "        \n",
    "        blocks = []\n",
    "        \n",
    "        for i in range(num_convs):\n",
    "            blocks.append(ConvBlock((output_channels * i) + input_channels, output_channels))\n",
    "\n",
    "        self.model = nn.Sequential(*blocks)\n",
    "\n",
    "    def forward(self, X):\n",
    "        for block in self.model:\n",
    "            Y = block(X)\n",
    "            X = torch.cat((X, Y), dim = 1)\n",
    "        return X\n",
    "\n",
    "output_channels, growth_rate = 64, 32\n",
    "num_convs_in_dense_blocks = [4, 4, 4, 4]\n",
    "blocks = []\n",
    "for i, num_convs in enumerate(num_convs_in_dense_blocks):\n",
    "    blocks.append(DenseBlock(num_convs, output_channels, growth_rate))\n",
    "    output_channels += num_convs * growth_rate\n",
    "    if i != len(num_convs_in_dense_blocks) - 1:\n",
    "        blocks.append(TransitionBlock(output_channels, output_channels // 2))\n",
    "        output_channels = output_channels // 2\n",
    "\n",
    "classifier = nn.Sequential(\n",
    "    nn.Conv2d(1, 64, kernel_size = 7, stride = 2, padding = 3),\n",
    "    nn.BatchNorm2d(64),\n",
    "    nn.LeakyReLU(0.2),\n",
    "    nn.MaxPool2d(kernel_size = 3, stride = 2, padding = 1),\n",
    "    *blocks,\n",
    "    nn.BatchNorm2d(output_channels),\n",
    "    nn.LeakyReLU(0.2),\n",
    "    nn.AdaptiveMaxPool2d((1, 1)),\n",
    "    nn.Flatten(),\n",
    "    nn.Linear(output_channels, 10)\n",
    ").to(device)\n",
    "\n",
    "assert 'classifier.pt' in os.listdir(os.getcwd()), f'\\nModel parameters are not found, make sure that the model parameters file, with name \"classifier.pt\" is on the same directory as the this script.\\n'\n",
    "classifier.load_state_dict(torch.load('./classifier.pt'))"
   ]
  },
  {
   "cell_type": "code",
   "execution_count": null,
   "metadata": {
    "tags": []
   },
   "outputs": [],
   "source": [
    "accuracy = lambda outputs, labels: (outputs.argmax(1) == labels).float().mean()\n",
    "\n",
    "predictions = []\n",
    "cum_acc = 0.0\n",
    "classifier.eval()\n",
    "with torch.no_grad():\n",
    "    for x, y in tqdm(test_data, desc = 'Testing the Model'):\n",
    "        outputs = classifier(x.cuda())\n",
    "        cum_acc += accuracy(outputs, y.cuda())\n",
    "        predictions += outputs.argmax(1).tolist()\n",
    "accuracy = 100.0 * (cum_acc.item() / len(test_data))\n",
    "print(f'\\nTesting Accuracy: {accuracy}')"
   ]
  },
  {
   "cell_type": "code",
   "execution_count": null,
   "metadata": {},
   "outputs": [],
   "source": [
    "for i, (x, y) in enumerate(test_data):\n",
    "    plt.imshow(x[0][0], 'gray_r')\n",
    "    plt.title(f'Prediction: {predictions[i]} | Label: {y.item()}')\n",
    "    plt.axis('off')\n",
    "    plt.show()"
   ]
  }
 ],
 "metadata": {
  "language_info": {
   "codemirror_mode": {
    "name": "ipython",
    "version": 3
   },
   "file_extension": ".py",
   "mimetype": "text/x-python",
   "name": "python",
   "nbconvert_exporter": "python",
   "pygments_lexer": "ipython3",
   "version": "3.7.7-final"
  },
  "orig_nbformat": 2,
  "kernelspec": {
   "name": "python37564bit78abdacf64e443609f57f8757402df21",
   "display_name": "Python 3.7.5 64-bit"
  }
 },
 "nbformat": 4,
 "nbformat_minor": 2
}